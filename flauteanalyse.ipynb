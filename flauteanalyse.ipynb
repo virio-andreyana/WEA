{
 "cells": [
  {
   "cell_type": "code",
   "execution_count": 13,
   "id": "f46f528c",
   "metadata": {},
   "outputs": [],
   "source": [
    "import atlite\n",
    "import geopandas as gpd\n",
    "import pandas as pd\n",
    "import numpy as np\n",
    "import matplotlib.pyplot as plt\n",
    "import cartopy.crs as ccrs\n",
    "from shapely.geometry import Polygon, LineString, Point\n",
    "\n",
    "import yaml\n",
    "from yaml.loader import SafeLoader\n",
    "from urllib.request import urlretrieve"
   ]
  },
  {
   "cell_type": "markdown",
   "id": "2c2331d8",
   "metadata": {},
   "source": [
    "Die 5 Insel sind folgendes\n",
    "- Batanes\n",
    "- Bohol\n",
    "- Catanduanes\n",
    "- Marinduque\n",
    "- Tawi-Tawi"
   ]
  },
  {
   "cell_type": "code",
   "execution_count": 5,
   "id": "687ec951",
   "metadata": {},
   "outputs": [],
   "source": [
    "turbine_df = pd.read_csv('turbine.csv').rename(columns={'Unnamed: 0':'turbine'}).set_index('turbine')\n",
    "\n",
    "turbine_typ = ['WES250','Vestas_V25_200kW','VesV20','En18','JI20kW']\n",
    "island = [\"Batanes\",\"Bohol\",\"Catanduanes\",\"Marinduque\",\"Tawi-Tawi\"]\n",
    "\n",
    "nopower_df = pd.DataFrame(columns=island,index=turbine_typ)\n",
    "\n",
    "for t in power_df.index:\n",
    "    turbine = turbine_df.loc[t]\n",
    "    neg_turbine = turbine.copy(deep=True)\n",
    "    \n",
    "    for i in neg_turbine.index:\n",
    "        if neg_turbine.loc[i] == 0:\n",
    "            neg_turbine.loc[i] = 1\n",
    "        elif isinstance(neg_turbine.loc[i], float):\n",
    "            neg_turbine.loc[i] = 0\n",
    "    \n",
    "    for r in power_df.columns:\n",
    "        hub_height = round(float(turbine['HUB_HEIGHT']))\n",
    "        while True:\n",
    "            try:\n",
    "                wind_df = pd.read_csv(f\"wind_histogram/wind_hist_{hub_height}_m.csv\").rename(columns={'Unnamed: 0':'region'}).set_index('region')\n",
    "            except FileNotFoundError:\n",
    "                hub_height = turbine['HUB_HEIGHT']\n",
    "                continue\n",
    "            break\n",
    "        wind = wind_df.loc[r]\n",
    "        nopower_df.loc[t,r] = sum(neg_turbine.loc[str(n)]*wind.loc[str(n)] for n in range(len(wind)))\n"
   ]
  },
  {
   "cell_type": "code",
   "execution_count": 6,
   "id": "8f6b674e",
   "metadata": {},
   "outputs": [
    {
     "data": {
      "text/html": [
       "<div>\n",
       "<style scoped>\n",
       "    .dataframe tbody tr th:only-of-type {\n",
       "        vertical-align: middle;\n",
       "    }\n",
       "\n",
       "    .dataframe tbody tr th {\n",
       "        vertical-align: top;\n",
       "    }\n",
       "\n",
       "    .dataframe thead th {\n",
       "        text-align: right;\n",
       "    }\n",
       "</style>\n",
       "<table border=\"1\" class=\"dataframe\">\n",
       "  <thead>\n",
       "    <tr style=\"text-align: right;\">\n",
       "      <th></th>\n",
       "      <th>Batanes</th>\n",
       "      <th>Bohol</th>\n",
       "      <th>Catanduanes</th>\n",
       "      <th>Marinduque</th>\n",
       "      <th>Tawi-Tawi</th>\n",
       "    </tr>\n",
       "  </thead>\n",
       "  <tbody>\n",
       "    <tr>\n",
       "      <th>WES250</th>\n",
       "      <td>288</td>\n",
       "      <td>2641</td>\n",
       "      <td>1180</td>\n",
       "      <td>2782</td>\n",
       "      <td>2126</td>\n",
       "    </tr>\n",
       "    <tr>\n",
       "      <th>Vestas_V25_200kW</th>\n",
       "      <td>629</td>\n",
       "      <td>4333</td>\n",
       "      <td>2685</td>\n",
       "      <td>4488</td>\n",
       "      <td>4486</td>\n",
       "    </tr>\n",
       "    <tr>\n",
       "      <th>VesV20</th>\n",
       "      <td>1357</td>\n",
       "      <td>6454</td>\n",
       "      <td>4450</td>\n",
       "      <td>5905</td>\n",
       "      <td>6659</td>\n",
       "    </tr>\n",
       "    <tr>\n",
       "      <th>En18</th>\n",
       "      <td>630</td>\n",
       "      <td>4344</td>\n",
       "      <td>2701</td>\n",
       "      <td>4498</td>\n",
       "      <td>4499</td>\n",
       "    </tr>\n",
       "    <tr>\n",
       "      <th>JI20kW</th>\n",
       "      <td>1612</td>\n",
       "      <td>7249</td>\n",
       "      <td>4987</td>\n",
       "      <td>6342</td>\n",
       "      <td>7044</td>\n",
       "    </tr>\n",
       "  </tbody>\n",
       "</table>\n",
       "</div>"
      ],
      "text/plain": [
       "                 Batanes Bohol Catanduanes Marinduque Tawi-Tawi\n",
       "WES250               288  2641        1180       2782      2126\n",
       "Vestas_V25_200kW     629  4333        2685       4488      4486\n",
       "VesV20              1357  6454        4450       5905      6659\n",
       "En18                 630  4344        2701       4498      4499\n",
       "JI20kW              1612  7249        4987       6342      7044"
      ]
     },
     "execution_count": 6,
     "metadata": {},
     "output_type": "execute_result"
    }
   ],
   "source": [
    "#power_df.to_csv('energieertrag_MWh_a.csv')\n",
    "nopower_df"
   ]
  },
  {
   "cell_type": "code",
   "execution_count": 10,
   "id": "5b71aded",
   "metadata": {},
   "outputs": [],
   "source": [
    "def extrapolate_wind_speed(hub_height,year):\n",
    "    \n",
    "    # v = v ref ln(z/z 0 )/ln(z ref /z 0 )\n",
    "    cutout = atlite.Cutout(f\"PHL_atlite_{year}.nc\")\n",
    "    wind_100 = cutout.data.wnd100m\n",
    "    roughness = cutout.data.roughness\n",
    "    wind_array = wind_100 * np.log(hub_height/roughness)/np.log(100/roughness)\n",
    "    \n",
    "    return wind_array\n",
    "\n",
    "def region_wind(wind_array,region):\n",
    "    cell_data=[]\n",
    "    for x in np.arange(116.75,126.57,0.25):\n",
    "        x = round(x,2)\n",
    "        for y in np.arange(4.5,21.25,0.25):\n",
    "            buffer = Point(x, y).buffer(0.25, cap_style = 3)\n",
    "            if region.simplify(0.1).overlaps(buffer):\n",
    "                x_cell = int((x - 116.8)*4)\n",
    "                y_cell = int((y - 4.5)*4)\n",
    "                cell_data= cell_data + [[y_cell,x_cell]]\n",
    "\n",
    "    return sum(wind_array[:,y,x].to_pandas() for y,x in cell_data)/len(cell_data)"
   ]
  },
  {
   "cell_type": "code",
   "execution_count": 14,
   "id": "e2c92b63",
   "metadata": {},
   "outputs": [],
   "source": [
    "regions = gpd.read_file(\"gadm_410-levels-ADM_1-PHL.gpkg\")\n",
    "\n",
    "region=10\n",
    "wind_height=30\n",
    "\n",
    "wind_array = extrapolate_wind_speed(wind_height,\"2020\")\n",
    "wind_series = region_wind(wind_array,regions.geometry[region])"
   ]
  },
  {
   "cell_type": "code",
   "execution_count": 16,
   "id": "58c70b0f",
   "metadata": {},
   "outputs": [
    {
     "data": {
      "text/plain": [
       "time\n",
       "2020-01-01 00:00:00    14.420557\n",
       "2020-01-01 01:00:00    14.502035\n",
       "2020-01-01 02:00:00    14.366391\n",
       "2020-01-01 03:00:00    14.172201\n",
       "2020-01-01 04:00:00    13.824707\n",
       "                         ...    \n",
       "2020-12-31 19:00:00    11.922174\n",
       "2020-12-31 20:00:00    11.813945\n",
       "2020-12-31 21:00:00    11.869819\n",
       "2020-12-31 22:00:00    11.010721\n",
       "2020-12-31 23:00:00    11.501553\n",
       "Length: 8784, dtype: float32"
      ]
     },
     "execution_count": 16,
     "metadata": {},
     "output_type": "execute_result"
    }
   ],
   "source": [
    "wind_series"
   ]
  },
  {
   "cell_type": "code",
   "execution_count": 17,
   "id": "cb73d72f",
   "metadata": {},
   "outputs": [],
   "source": [
    "wind_series.to_csv('wind_series_test.csv')"
   ]
  },
  {
   "cell_type": "code",
   "execution_count": 35,
   "id": "5b8a96b6",
   "metadata": {},
   "outputs": [
    {
     "data": {
      "text/plain": [
       "<AxesSubplot:xlabel='time'>"
      ]
     },
     "execution_count": 35,
     "metadata": {},
     "output_type": "execute_result"
    },
    {
     "data": {
      "image/png": "[encoded data removed]",
      "text/plain": [
       "<Figure size 640x480 with 1 Axes>"
      ]
     },
     "metadata": {},
     "output_type": "display_data"
    }
   ],
   "source": [
    "wind_series = pd.read_csv('wind_series_test.csv',index_col=0, parse_dates=True)\n",
    "wind_series.plot()"
   ]
  },
  {
   "cell_type": "code",
   "execution_count": 38,
   "id": "73bb04dc",
   "metadata": {},
   "outputs": [
    {
     "data": {
      "text/plain": [
       "time\n",
       "2020-01-01 00:00:00    0\n",
       "2020-01-01 01:00:00    0\n",
       "2020-01-01 02:00:00    0\n",
       "2020-01-01 03:00:00    0\n",
       "2020-01-01 04:00:00    0\n",
       "                      ..\n",
       "2020-12-31 19:00:00    0\n",
       "2020-12-31 20:00:00    1\n",
       "2020-12-31 21:00:00    2\n",
       "2020-12-31 22:00:00    3\n",
       "2020-12-31 23:00:00    4\n",
       "Length: 8784, dtype: int64"
      ]
     },
     "execution_count": 38,
     "metadata": {},
     "output_type": "execute_result"
    }
   ],
   "source": [
    "for i in wind_series.index:\n",
    "    if wind_series.loc[i,'0'] < 12:\n",
    "        wind_series.loc[i,'0'] = 0\n",
    "\n",
    "wind_series.groupby(wind_series['0'].diff().ne(0).cumsum()).cumcount()"
   ]
  },
  {
   "cell_type": "code",
   "execution_count": 39,
   "id": "8e726e49",
   "metadata": {},
   "outputs": [
    {
     "data": {
      "text/html": [
       "<div>\n",
       "<style scoped>\n",
       "    .dataframe tbody tr th:only-of-type {\n",
       "        vertical-align: middle;\n",
       "    }\n",
       "\n",
       "    .dataframe tbody tr th {\n",
       "        vertical-align: top;\n",
       "    }\n",
       "\n",
       "    .dataframe thead th {\n",
       "        text-align: right;\n",
       "    }\n",
       "</style>\n",
       "<table border=\"1\" class=\"dataframe\">\n",
       "  <thead>\n",
       "    <tr style=\"text-align: right;\">\n",
       "      <th></th>\n",
       "      <th>0</th>\n",
       "    </tr>\n",
       "    <tr>\n",
       "      <th>time</th>\n",
       "      <th></th>\n",
       "    </tr>\n",
       "  </thead>\n",
       "  <tbody>\n",
       "    <tr>\n",
       "      <th>2020-01-01 00:00:00</th>\n",
       "      <td>14.420557</td>\n",
       "    </tr>\n",
       "    <tr>\n",
       "      <th>2020-01-01 01:00:00</th>\n",
       "      <td>14.502035</td>\n",
       "    </tr>\n",
       "    <tr>\n",
       "      <th>2020-01-01 02:00:00</th>\n",
       "      <td>14.366391</td>\n",
       "    </tr>\n",
       "    <tr>\n",
       "      <th>2020-01-01 03:00:00</th>\n",
       "      <td>14.172201</td>\n",
       "    </tr>\n",
       "    <tr>\n",
       "      <th>2020-01-01 04:00:00</th>\n",
       "      <td>13.824707</td>\n",
       "    </tr>\n",
       "    <tr>\n",
       "      <th>...</th>\n",
       "      <td>...</td>\n",
       "    </tr>\n",
       "    <tr>\n",
       "      <th>2020-12-31 19:00:00</th>\n",
       "      <td>0.000000</td>\n",
       "    </tr>\n",
       "    <tr>\n",
       "      <th>2020-12-31 20:00:00</th>\n",
       "      <td>0.000000</td>\n",
       "    </tr>\n",
       "    <tr>\n",
       "      <th>2020-12-31 21:00:00</th>\n",
       "      <td>0.000000</td>\n",
       "    </tr>\n",
       "    <tr>\n",
       "      <th>2020-12-31 22:00:00</th>\n",
       "      <td>0.000000</td>\n",
       "    </tr>\n",
       "    <tr>\n",
       "      <th>2020-12-31 23:00:00</th>\n",
       "      <td>0.000000</td>\n",
       "    </tr>\n",
       "  </tbody>\n",
       "</table>\n",
       "<p>8784 rows × 1 columns</p>\n",
       "</div>"
      ],
      "text/plain": [
       "                             0\n",
       "time                          \n",
       "2020-01-01 00:00:00  14.420557\n",
       "2020-01-01 01:00:00  14.502035\n",
       "2020-01-01 02:00:00  14.366391\n",
       "2020-01-01 03:00:00  14.172201\n",
       "2020-01-01 04:00:00  13.824707\n",
       "...                        ...\n",
       "2020-12-31 19:00:00   0.000000\n",
       "2020-12-31 20:00:00   0.000000\n",
       "2020-12-31 21:00:00   0.000000\n",
       "2020-12-31 22:00:00   0.000000\n",
       "2020-12-31 23:00:00   0.000000\n",
       "\n",
       "[8784 rows x 1 columns]"
      ]
     },
     "execution_count": 39,
     "metadata": {},
     "output_type": "execute_result"
    }
   ],
   "source": [
    "wind_series"
   ]
  },
  {
   "cell_type": "code",
   "execution_count": null,
   "id": "0ca9eb45",
   "metadata": {},
   "outputs": [],
   "source": []
  }
 ],
 "metadata": {
  "kernelspec": {
   "display_name": "Python 3 (ipykernel)",
   "language": "python",
   "name": "python3"
  },
  "language_info": {
   "codemirror_mode": {
    "name": "ipython",
    "version": 3
   },
   "file_extension": ".py",
   "mimetype": "text/x-python",
   "name": "python",
   "nbconvert_exporter": "python",
   "pygments_lexer": "ipython3",
   "version": "3.10.11"
  }
 },
 "nbformat": 4,
 "nbformat_minor": 5
}
