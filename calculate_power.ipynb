{
 "cells": [
  {
   "cell_type": "code",
   "execution_count": 1,
   "id": "f46f528c",
   "metadata": {},
   "outputs": [],
   "source": [
    "import pandas as pd\n",
    "import matplotlib.pyplot as plt\n",
    "\n",
    "import yaml\n",
    "from yaml.loader import SafeLoader\n",
    "from urllib.request import urlretrieve"
   ]
  },
  {
   "cell_type": "markdown",
   "id": "2c2331d8",
   "metadata": {},
   "source": [
    "Die 5 Insel sind folgendes\n",
    "- Batanes\n",
    "- Bohol\n",
    "- Catanduanes\n",
    "- Marinduque\n",
    "- Tawi-Tawi"
   ]
  },
  {
   "cell_type": "code",
   "execution_count": 48,
   "id": "687ec951",
   "metadata": {},
   "outputs": [],
   "source": [
    "turbine_df = pd.read_csv('turbine.csv').rename(columns={'Unnamed: 0':'turbine'}).set_index('turbine')\n",
    "\n",
    "turbine_typ = ['WES250','Vestas_V25_200kW','VesV20','En18','JI20kW']\n",
    "island = [\"Batanes\",\"Bohol\",\"Catanduanes\",\"Marinduque\",\"Tawi-Tawi\"]\n",
    "\n",
    "power_df = pd.DataFrame(columns=island,index=turbine_typ)\n",
    "\n",
    "for t in power_df.index:\n",
    "    turbine = turbine_df.loc[t]\n",
    "    for r in power_df.columns:\n",
    "        hub_height = round(float(turbine['HUB_HEIGHT']))\n",
    "        while True:\n",
    "            try:\n",
    "                wind_df = pd.read_csv(f\"wind_histogram/wind_hist_{hub_height}_m.csv\").rename(columns={'Unnamed: 0':'region'}).set_index('region')\n",
    "            except FileNotFoundError:\n",
    "                hub_height = turbine['HUB_HEIGHT']\n",
    "                continue\n",
    "            break\n",
    "        wind = wind_df.loc[r]\n",
    "        power_df.loc[t,r] = sum(turbine.loc[str(n)]*wind.loc[str(n)] for n in range(len(wind)))\n"
   ]
  },
  {
   "cell_type": "code",
   "execution_count": 51,
   "id": "8f6b674e",
   "metadata": {},
   "outputs": [
    {
     "data": {
      "text/html": [
       "<div>\n",
       "<style scoped>\n",
       "    .dataframe tbody tr th:only-of-type {\n",
       "        vertical-align: middle;\n",
       "    }\n",
       "\n",
       "    .dataframe tbody tr th {\n",
       "        vertical-align: top;\n",
       "    }\n",
       "\n",
       "    .dataframe thead th {\n",
       "        text-align: right;\n",
       "    }\n",
       "</style>\n",
       "<table border=\"1\" class=\"dataframe\">\n",
       "  <thead>\n",
       "    <tr style=\"text-align: right;\">\n",
       "      <th></th>\n",
       "      <th>Batanes</th>\n",
       "      <th>Bohol</th>\n",
       "      <th>Catanduanes</th>\n",
       "      <th>Marinduque</th>\n",
       "      <th>Tawi-Tawi</th>\n",
       "    </tr>\n",
       "  </thead>\n",
       "  <tbody>\n",
       "    <tr>\n",
       "      <th>WES250</th>\n",
       "      <td>897.5387</td>\n",
       "      <td>85.7114</td>\n",
       "      <td>270.4054</td>\n",
       "      <td>153.5168</td>\n",
       "      <td>72.3965</td>\n",
       "    </tr>\n",
       "    <tr>\n",
       "      <th>Vestas_V25_200kW</th>\n",
       "      <td>708.2121</td>\n",
       "      <td>66.2183</td>\n",
       "      <td>210.5584</td>\n",
       "      <td>118.3982</td>\n",
       "      <td>54.9161</td>\n",
       "    </tr>\n",
       "    <tr>\n",
       "      <th>VesV20</th>\n",
       "      <td>364.469</td>\n",
       "      <td>27.501</td>\n",
       "      <td>107.714</td>\n",
       "      <td>58.803</td>\n",
       "      <td>23.199</td>\n",
       "    </tr>\n",
       "    <tr>\n",
       "      <th>En18</th>\n",
       "      <td>332.01986</td>\n",
       "      <td>41.55832</td>\n",
       "      <td>113.98824</td>\n",
       "      <td>66.84133</td>\n",
       "      <td>36.14985</td>\n",
       "    </tr>\n",
       "    <tr>\n",
       "      <th>JI20kW</th>\n",
       "      <td>44.4295</td>\n",
       "      <td>1.4045</td>\n",
       "      <td>8.264</td>\n",
       "      <td>3.8295</td>\n",
       "      <td>1.364</td>\n",
       "    </tr>\n",
       "  </tbody>\n",
       "</table>\n",
       "</div>"
      ],
      "text/plain": [
       "                    Batanes     Bohol Catanduanes Marinduque Tawi-Tawi\n",
       "WES250             897.5387   85.7114    270.4054   153.5168   72.3965\n",
       "Vestas_V25_200kW   708.2121   66.2183    210.5584   118.3982   54.9161\n",
       "VesV20              364.469    27.501     107.714     58.803    23.199\n",
       "En18              332.01986  41.55832   113.98824   66.84133  36.14985\n",
       "JI20kW              44.4295    1.4045       8.264     3.8295     1.364"
      ]
     },
     "execution_count": 51,
     "metadata": {},
     "output_type": "execute_result"
    }
   ],
   "source": [
    "power_df.to_csv('energieertrag_MWh_a.csv')\n",
    "power_df"
   ]
  },
  {
   "cell_type": "code",
   "execution_count": null,
   "id": "d02ff678",
   "metadata": {},
   "outputs": [],
   "source": []
  }
 ],
 "metadata": {
  "kernelspec": {
   "display_name": "Python 3 (ipykernel)",
   "language": "python",
   "name": "python3"
  },
  "language_info": {
   "codemirror_mode": {
    "name": "ipython",
    "version": 3
   },
   "file_extension": ".py",
   "mimetype": "text/x-python",
   "name": "python",
   "nbconvert_exporter": "python",
   "pygments_lexer": "ipython3",
   "version": "3.9.0"
  }
 },
 "nbformat": 4,
 "nbformat_minor": 5
}
